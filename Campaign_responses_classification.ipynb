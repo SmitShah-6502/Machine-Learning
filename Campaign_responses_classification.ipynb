{
 "cells": [
  {
   "cell_type": "code",
   "execution_count": 26,
   "id": "d67521a0-6990-454f-8204-3fadedf2fda0",
   "metadata": {},
   "outputs": [],
   "source": [
    "import pandas as pd\n",
    "import matplotlib.pyplot as plt \n",
    "import seaborn as sns\n",
    "import numpy as np "
   ]
  },
  {
   "cell_type": "code",
   "execution_count": 27,
   "id": "43f69fea-0d36-47c6-ab36-9c52133afba4",
   "metadata": {},
   "outputs": [],
   "source": [
    "df=pd.read_csv('campaign_responses.csv')"
   ]
  },
  {
   "cell_type": "code",
   "execution_count": 28,
   "id": "225c45de-eb1a-4b24-a512-33eea98b7c04",
   "metadata": {},
   "outputs": [
    {
     "data": {
      "text/html": [
       "<div>\n",
       "<style scoped>\n",
       "    .dataframe tbody tr th:only-of-type {\n",
       "        vertical-align: middle;\n",
       "    }\n",
       "\n",
       "    .dataframe tbody tr th {\n",
       "        vertical-align: top;\n",
       "    }\n",
       "\n",
       "    .dataframe thead th {\n",
       "        text-align: right;\n",
       "    }\n",
       "</style>\n",
       "<table border=\"1\" class=\"dataframe\">\n",
       "  <thead>\n",
       "    <tr style=\"text-align: right;\">\n",
       "      <th></th>\n",
       "      <th>customer_id</th>\n",
       "      <th>age</th>\n",
       "      <th>gender</th>\n",
       "      <th>annual_income</th>\n",
       "      <th>credit_score</th>\n",
       "      <th>employed</th>\n",
       "      <th>marital_status</th>\n",
       "      <th>no_of_children</th>\n",
       "      <th>responded</th>\n",
       "    </tr>\n",
       "  </thead>\n",
       "  <tbody>\n",
       "    <tr>\n",
       "      <th>0</th>\n",
       "      <td>1</td>\n",
       "      <td>35</td>\n",
       "      <td>Male</td>\n",
       "      <td>65000</td>\n",
       "      <td>720</td>\n",
       "      <td>Yes</td>\n",
       "      <td>Married</td>\n",
       "      <td>2</td>\n",
       "      <td>Yes</td>\n",
       "    </tr>\n",
       "    <tr>\n",
       "      <th>1</th>\n",
       "      <td>2</td>\n",
       "      <td>28</td>\n",
       "      <td>Female</td>\n",
       "      <td>45000</td>\n",
       "      <td>680</td>\n",
       "      <td>No</td>\n",
       "      <td>Single</td>\n",
       "      <td>0</td>\n",
       "      <td>No</td>\n",
       "    </tr>\n",
       "    <tr>\n",
       "      <th>2</th>\n",
       "      <td>3</td>\n",
       "      <td>42</td>\n",
       "      <td>Male</td>\n",
       "      <td>85000</td>\n",
       "      <td>750</td>\n",
       "      <td>Yes</td>\n",
       "      <td>Married</td>\n",
       "      <td>3</td>\n",
       "      <td>Yes</td>\n",
       "    </tr>\n",
       "    <tr>\n",
       "      <th>3</th>\n",
       "      <td>4</td>\n",
       "      <td>31</td>\n",
       "      <td>Female</td>\n",
       "      <td>55000</td>\n",
       "      <td>710</td>\n",
       "      <td>Yes</td>\n",
       "      <td>Single</td>\n",
       "      <td>1</td>\n",
       "      <td>No</td>\n",
       "    </tr>\n",
       "    <tr>\n",
       "      <th>4</th>\n",
       "      <td>5</td>\n",
       "      <td>47</td>\n",
       "      <td>Male</td>\n",
       "      <td>95000</td>\n",
       "      <td>790</td>\n",
       "      <td>Yes</td>\n",
       "      <td>Married</td>\n",
       "      <td>2</td>\n",
       "      <td>Yes</td>\n",
       "    </tr>\n",
       "  </tbody>\n",
       "</table>\n",
       "</div>"
      ],
      "text/plain": [
       "   customer_id  age  gender  annual_income  credit_score employed  \\\n",
       "0            1   35    Male          65000           720      Yes   \n",
       "1            2   28  Female          45000           680       No   \n",
       "2            3   42    Male          85000           750      Yes   \n",
       "3            4   31  Female          55000           710      Yes   \n",
       "4            5   47    Male          95000           790      Yes   \n",
       "\n",
       "  marital_status  no_of_children responded  \n",
       "0        Married               2       Yes  \n",
       "1         Single               0        No  \n",
       "2        Married               3       Yes  \n",
       "3         Single               1        No  \n",
       "4        Married               2       Yes  "
      ]
     },
     "execution_count": 28,
     "metadata": {},
     "output_type": "execute_result"
    }
   ],
   "source": [
    "df.head()"
   ]
  },
  {
   "cell_type": "code",
   "execution_count": 29,
   "id": "23a68efd-3744-4ae3-a9ea-b15511e68871",
   "metadata": {},
   "outputs": [
    {
     "name": "stdout",
     "output_type": "stream",
     "text": [
      "<class 'pandas.core.frame.DataFrame'>\n",
      "RangeIndex: 56 entries, 0 to 55\n",
      "Data columns (total 9 columns):\n",
      " #   Column          Non-Null Count  Dtype \n",
      "---  ------          --------------  ----- \n",
      " 0   customer_id     56 non-null     int64 \n",
      " 1   age             56 non-null     int64 \n",
      " 2   gender          56 non-null     object\n",
      " 3   annual_income   56 non-null     int64 \n",
      " 4   credit_score    56 non-null     int64 \n",
      " 5   employed        56 non-null     object\n",
      " 6   marital_status  56 non-null     object\n",
      " 7   no_of_children  56 non-null     int64 \n",
      " 8   responded       56 non-null     object\n",
      "dtypes: int64(5), object(4)\n",
      "memory usage: 4.1+ KB\n"
     ]
    }
   ],
   "source": [
    "df.info()"
   ]
  },
  {
   "cell_type": "code",
   "execution_count": 30,
   "id": "c400190d-3d5e-48fb-8591-f9acf1c0cb60",
   "metadata": {},
   "outputs": [
    {
     "data": {
      "text/html": [
       "<div>\n",
       "<style scoped>\n",
       "    .dataframe tbody tr th:only-of-type {\n",
       "        vertical-align: middle;\n",
       "    }\n",
       "\n",
       "    .dataframe tbody tr th {\n",
       "        vertical-align: top;\n",
       "    }\n",
       "\n",
       "    .dataframe thead th {\n",
       "        text-align: right;\n",
       "    }\n",
       "</style>\n",
       "<table border=\"1\" class=\"dataframe\">\n",
       "  <thead>\n",
       "    <tr style=\"text-align: right;\">\n",
       "      <th></th>\n",
       "      <th>customer_id</th>\n",
       "      <th>age</th>\n",
       "      <th>annual_income</th>\n",
       "      <th>credit_score</th>\n",
       "      <th>no_of_children</th>\n",
       "    </tr>\n",
       "  </thead>\n",
       "  <tbody>\n",
       "    <tr>\n",
       "      <th>count</th>\n",
       "      <td>56.000000</td>\n",
       "      <td>56.000000</td>\n",
       "      <td>56.000000</td>\n",
       "      <td>56.000000</td>\n",
       "      <td>56.000000</td>\n",
       "    </tr>\n",
       "    <tr>\n",
       "      <th>mean</th>\n",
       "      <td>28.500000</td>\n",
       "      <td>36.214286</td>\n",
       "      <td>69017.857143</td>\n",
       "      <td>719.107143</td>\n",
       "      <td>1.285714</td>\n",
       "    </tr>\n",
       "    <tr>\n",
       "      <th>std</th>\n",
       "      <td>16.309506</td>\n",
       "      <td>7.088311</td>\n",
       "      <td>22784.756524</td>\n",
       "      <td>60.340753</td>\n",
       "      <td>1.186504</td>\n",
       "    </tr>\n",
       "    <tr>\n",
       "      <th>min</th>\n",
       "      <td>1.000000</td>\n",
       "      <td>25.000000</td>\n",
       "      <td>35000.000000</td>\n",
       "      <td>600.000000</td>\n",
       "      <td>0.000000</td>\n",
       "    </tr>\n",
       "    <tr>\n",
       "      <th>25%</th>\n",
       "      <td>14.750000</td>\n",
       "      <td>30.000000</td>\n",
       "      <td>48000.000000</td>\n",
       "      <td>677.500000</td>\n",
       "      <td>0.000000</td>\n",
       "    </tr>\n",
       "    <tr>\n",
       "      <th>50%</th>\n",
       "      <td>28.500000</td>\n",
       "      <td>35.500000</td>\n",
       "      <td>64500.000000</td>\n",
       "      <td>720.000000</td>\n",
       "      <td>1.000000</td>\n",
       "    </tr>\n",
       "    <tr>\n",
       "      <th>75%</th>\n",
       "      <td>42.250000</td>\n",
       "      <td>42.000000</td>\n",
       "      <td>90000.000000</td>\n",
       "      <td>770.000000</td>\n",
       "      <td>2.000000</td>\n",
       "    </tr>\n",
       "    <tr>\n",
       "      <th>max</th>\n",
       "      <td>56.000000</td>\n",
       "      <td>51.000000</td>\n",
       "      <td>110000.000000</td>\n",
       "      <td>820.000000</td>\n",
       "      <td>3.000000</td>\n",
       "    </tr>\n",
       "  </tbody>\n",
       "</table>\n",
       "</div>"
      ],
      "text/plain": [
       "       customer_id        age  annual_income  credit_score  no_of_children\n",
       "count    56.000000  56.000000      56.000000     56.000000       56.000000\n",
       "mean     28.500000  36.214286   69017.857143    719.107143        1.285714\n",
       "std      16.309506   7.088311   22784.756524     60.340753        1.186504\n",
       "min       1.000000  25.000000   35000.000000    600.000000        0.000000\n",
       "25%      14.750000  30.000000   48000.000000    677.500000        0.000000\n",
       "50%      28.500000  35.500000   64500.000000    720.000000        1.000000\n",
       "75%      42.250000  42.000000   90000.000000    770.000000        2.000000\n",
       "max      56.000000  51.000000  110000.000000    820.000000        3.000000"
      ]
     },
     "execution_count": 30,
     "metadata": {},
     "output_type": "execute_result"
    }
   ],
   "source": [
    "df.describe()"
   ]
  },
  {
   "cell_type": "code",
   "execution_count": 31,
   "id": "76291e5d-6389-46ce-a3d5-97130f5e947e",
   "metadata": {},
   "outputs": [
    {
     "data": {
      "text/plain": [
       "(56, 9)"
      ]
     },
     "execution_count": 31,
     "metadata": {},
     "output_type": "execute_result"
    }
   ],
   "source": [
    "df.shape"
   ]
  },
  {
   "cell_type": "code",
   "execution_count": 32,
   "id": "7c593072-d8a0-435d-8f3a-25e9e7185a1e",
   "metadata": {},
   "outputs": [
    {
     "data": {
      "text/plain": [
       "customer_id       0\n",
       "age               0\n",
       "gender            0\n",
       "annual_income     0\n",
       "credit_score      0\n",
       "employed          0\n",
       "marital_status    0\n",
       "no_of_children    0\n",
       "responded         0\n",
       "dtype: int64"
      ]
     },
     "execution_count": 32,
     "metadata": {},
     "output_type": "execute_result"
    }
   ],
   "source": [
    "df.isnull().sum()"
   ]
  },
  {
   "cell_type": "code",
   "execution_count": 33,
   "id": "c78f3e92-d1e5-4e8d-ac48-13cde58f1aa0",
   "metadata": {},
   "outputs": [
    {
     "data": {
      "image/png": "[encoded data removed]",
      "text/plain": [
       "<Figure size 800x600 with 1 Axes>"
      ]
     },
     "metadata": {},
     "output_type": "display_data"
    },
    {
     "data": {
      "image/png": "[encoded data removed]",
      "text/plain": [
       "<Figure size 800x600 with 1 Axes>"
      ]
     },
     "metadata": {},
     "output_type": "display_data"
    },
    {
     "data": {
      "image/png": "[encoded data removed]",
      "text/plain": [
       "<Figure size 800x600 with 1 Axes>"
      ]
     },
     "metadata": {},
     "output_type": "display_data"
    },
    {
     "data": {
      "image/png": "[encoded data removed]",
      "text/plain": [
       "<Figure size 800x600 with 1 Axes>"
      ]
     },
     "metadata": {},
     "output_type": "display_data"
    }
   ],
   "source": [
    "plt.figure(figsize=(8,6))\n",
    "sns.boxplot(df['age'])\n",
    "plt.show()\n",
    "\n",
    "plt.figure(figsize=(8,6))\n",
    "sns.boxplot(df['annual_income'])\n",
    "plt.show()\n",
    "\n",
    "plt.figure(figsize=(8,6))\n",
    "sns.boxplot(df['credit_score'])\n",
    "plt.show()\n",
    "\n",
    "plt.figure(figsize=(8,6))\n",
    "sns.boxplot(df['no_of_children'])\n",
    "plt.show()"
   ]
  },
  {
   "cell_type": "code",
   "execution_count": 34,
   "id": "b965de26-96e3-458f-acdf-8c1cecb54246",
   "metadata": {},
   "outputs": [
    {
     "data": {
      "image/png": "[encoded data removed]",
      "text/plain": [
       "<Figure size 800x600 with 1 Axes>"
      ]
     },
     "metadata": {},
     "output_type": "display_data"
    }
   ],
   "source": [
    "plt.figure(figsize=(8,6))\n",
    "sns.barplot(x=df['gender'],y=df['responded'])\n",
    "plt.show()"
   ]
  },
  {
   "cell_type": "code",
   "execution_count": 35,
   "id": "b708920e-e34e-42ab-9775-d911a5f25363",
   "metadata": {},
   "outputs": [
    {
     "data": {
      "image/png": "[encoded data removed]",
      "text/plain": [
       "<Figure size 800x600 with 1 Axes>"
      ]
     },
     "metadata": {},
     "output_type": "display_data"
    }
   ],
   "source": [
    "plt.figure(figsize=(8,6))\n",
    "sns.barplot(x=df['gender'],y=df['responded'])\n",
    "plt.show()"
   ]
  },
  {
   "cell_type": "code",
   "execution_count": 36,
   "id": "5b37631c-4b05-432d-89e7-24ccc258c50a",
   "metadata": {},
   "outputs": [
    {
     "data": {
      "image/png": "[encoded data removed]",
      "text/plain": [
       "<Figure size 800x600 with 1 Axes>"
      ]
     },
     "metadata": {},
     "output_type": "display_data"
    }
   ],
   "source": [
    "plt.figure(figsize=(8,6))\n",
    "sns.barplot(x=df['employed'],y=df['responded'])\n",
    "plt.show()"
   ]
  },
  {
   "cell_type": "code",
   "execution_count": 37,
   "id": "91d415b4-8d78-4c18-84be-2f4fed269f89",
   "metadata": {},
   "outputs": [
    {
     "data": {
      "image/png": "[encoded data removed]",
      "text/plain": [
       "<Figure size 800x600 with 6 Axes>"
      ]
     },
     "metadata": {},
     "output_type": "display_data"
    }
   ],
   "source": [
    "df.hist(bins=20,figsize=(8,6))\n",
    "plt.tight_layout()"
   ]
  },
  {
   "cell_type": "code",
   "execution_count": 38,
   "id": "046ac367-e3e0-4804-99f4-1a6387f1ba88",
   "metadata": {},
   "outputs": [
    {
     "name": "stdout",
     "output_type": "stream",
     "text": [
      "age               0.204558\n",
      "annual_income     0.112038\n",
      "credit_score     -0.235200\n",
      "no_of_children    0.157356\n",
      "dtype: float64\n"
     ]
    }
   ],
   "source": [
    "from scipy.stats import skew\n",
    "skewed_values=df[['age','annual_income','credit_score','no_of_children']].apply(skew)\n",
    "print(skewed_values)"
   ]
  },
  {
   "cell_type": "code",
   "execution_count": 39,
   "id": "57922e5e-0b6e-41e3-b8b2-3a160a8e3b49",
   "metadata": {},
   "outputs": [],
   "source": [
    "df=pd.get_dummies(df,columns=['gender','employed','responded','marital_status'],drop_first=True)"
   ]
  },
  {
   "cell_type": "code",
   "execution_count": 40,
   "id": "95380cb4-f7c4-47f1-95c7-c9ea76ad79c7",
   "metadata": {},
   "outputs": [
    {
     "data": {
      "text/html": [
       "<div>\n",
       "<style scoped>\n",
       "    .dataframe tbody tr th:only-of-type {\n",
       "        vertical-align: middle;\n",
       "    }\n",
       "\n",
       "    .dataframe tbody tr th {\n",
       "        vertical-align: top;\n",
       "    }\n",
       "\n",
       "    .dataframe thead th {\n",
       "        text-align: right;\n",
       "    }\n",
       "</style>\n",
       "<table border=\"1\" class=\"dataframe\">\n",
       "  <thead>\n",
       "    <tr style=\"text-align: right;\">\n",
       "      <th></th>\n",
       "      <th>customer_id</th>\n",
       "      <th>age</th>\n",
       "      <th>annual_income</th>\n",
       "      <th>credit_score</th>\n",
       "      <th>no_of_children</th>\n",
       "      <th>gender_Male</th>\n",
       "      <th>employed_Yes</th>\n",
       "      <th>responded_Yes</th>\n",
       "      <th>marital_status_Single</th>\n",
       "    </tr>\n",
       "  </thead>\n",
       "  <tbody>\n",
       "    <tr>\n",
       "      <th>0</th>\n",
       "      <td>1</td>\n",
       "      <td>35</td>\n",
       "      <td>65000</td>\n",
       "      <td>720</td>\n",
       "      <td>2</td>\n",
       "      <td>1</td>\n",
       "      <td>1</td>\n",
       "      <td>1</td>\n",
       "      <td>0</td>\n",
       "    </tr>\n",
       "    <tr>\n",
       "      <th>1</th>\n",
       "      <td>2</td>\n",
       "      <td>28</td>\n",
       "      <td>45000</td>\n",
       "      <td>680</td>\n",
       "      <td>0</td>\n",
       "      <td>0</td>\n",
       "      <td>0</td>\n",
       "      <td>0</td>\n",
       "      <td>1</td>\n",
       "    </tr>\n",
       "    <tr>\n",
       "      <th>2</th>\n",
       "      <td>3</td>\n",
       "      <td>42</td>\n",
       "      <td>85000</td>\n",
       "      <td>750</td>\n",
       "      <td>3</td>\n",
       "      <td>1</td>\n",
       "      <td>1</td>\n",
       "      <td>1</td>\n",
       "      <td>0</td>\n",
       "    </tr>\n",
       "    <tr>\n",
       "      <th>3</th>\n",
       "      <td>4</td>\n",
       "      <td>31</td>\n",
       "      <td>55000</td>\n",
       "      <td>710</td>\n",
       "      <td>1</td>\n",
       "      <td>0</td>\n",
       "      <td>1</td>\n",
       "      <td>0</td>\n",
       "      <td>1</td>\n",
       "    </tr>\n",
       "    <tr>\n",
       "      <th>4</th>\n",
       "      <td>5</td>\n",
       "      <td>47</td>\n",
       "      <td>95000</td>\n",
       "      <td>790</td>\n",
       "      <td>2</td>\n",
       "      <td>1</td>\n",
       "      <td>1</td>\n",
       "      <td>1</td>\n",
       "      <td>0</td>\n",
       "    </tr>\n",
       "  </tbody>\n",
       "</table>\n",
       "</div>"
      ],
      "text/plain": [
       "   customer_id  age  annual_income  credit_score  no_of_children  gender_Male  \\\n",
       "0            1   35          65000           720               2            1   \n",
       "1            2   28          45000           680               0            0   \n",
       "2            3   42          85000           750               3            1   \n",
       "3            4   31          55000           710               1            0   \n",
       "4            5   47          95000           790               2            1   \n",
       "\n",
       "   employed_Yes  responded_Yes  marital_status_Single  \n",
       "0             1              1                      0  \n",
       "1             0              0                      1  \n",
       "2             1              1                      0  \n",
       "3             1              0                      1  \n",
       "4             1              1                      0  "
      ]
     },
     "execution_count": 40,
     "metadata": {},
     "output_type": "execute_result"
    }
   ],
   "source": [
    "df=df.astype(int)\n",
    "df.head()"
   ]
  },
  {
   "cell_type": "code",
   "execution_count": 41,
   "id": "d9343194-5ae0-4031-878f-40a7fe413ae0",
   "metadata": {},
   "outputs": [
    {
     "data": {
      "text/html": [
       "<div>\n",
       "<style scoped>\n",
       "    .dataframe tbody tr th:only-of-type {\n",
       "        vertical-align: middle;\n",
       "    }\n",
       "\n",
       "    .dataframe tbody tr th {\n",
       "        vertical-align: top;\n",
       "    }\n",
       "\n",
       "    .dataframe thead th {\n",
       "        text-align: right;\n",
       "    }\n",
       "</style>\n",
       "<table border=\"1\" class=\"dataframe\">\n",
       "  <thead>\n",
       "    <tr style=\"text-align: right;\">\n",
       "      <th></th>\n",
       "      <th>customer_id</th>\n",
       "      <th>age</th>\n",
       "      <th>annual_income</th>\n",
       "      <th>credit_score</th>\n",
       "      <th>no_of_children</th>\n",
       "      <th>gender_Male</th>\n",
       "      <th>employed_Yes</th>\n",
       "      <th>responded_Yes</th>\n",
       "      <th>marital_status_Single</th>\n",
       "    </tr>\n",
       "  </thead>\n",
       "  <tbody>\n",
       "    <tr>\n",
       "      <th>0</th>\n",
       "      <td>1</td>\n",
       "      <td>-0.172859</td>\n",
       "      <td>-0.177936</td>\n",
       "      <td>0.014931</td>\n",
       "      <td>0.607457</td>\n",
       "      <td>1</td>\n",
       "      <td>1</td>\n",
       "      <td>1</td>\n",
       "      <td>0</td>\n",
       "    </tr>\n",
       "    <tr>\n",
       "      <th>1</th>\n",
       "      <td>2</td>\n",
       "      <td>-1.169337</td>\n",
       "      <td>-1.063659</td>\n",
       "      <td>-0.653970</td>\n",
       "      <td>-1.093422</td>\n",
       "      <td>0</td>\n",
       "      <td>0</td>\n",
       "      <td>0</td>\n",
       "      <td>1</td>\n",
       "    </tr>\n",
       "    <tr>\n",
       "      <th>2</th>\n",
       "      <td>3</td>\n",
       "      <td>0.823620</td>\n",
       "      <td>0.707788</td>\n",
       "      <td>0.516607</td>\n",
       "      <td>1.457896</td>\n",
       "      <td>1</td>\n",
       "      <td>1</td>\n",
       "      <td>1</td>\n",
       "      <td>0</td>\n",
       "    </tr>\n",
       "    <tr>\n",
       "      <th>3</th>\n",
       "      <td>4</td>\n",
       "      <td>-0.742275</td>\n",
       "      <td>-0.620797</td>\n",
       "      <td>-0.152294</td>\n",
       "      <td>-0.242983</td>\n",
       "      <td>0</td>\n",
       "      <td>1</td>\n",
       "      <td>0</td>\n",
       "      <td>1</td>\n",
       "    </tr>\n",
       "    <tr>\n",
       "      <th>4</th>\n",
       "      <td>5</td>\n",
       "      <td>1.535390</td>\n",
       "      <td>1.150650</td>\n",
       "      <td>1.185508</td>\n",
       "      <td>0.607457</td>\n",
       "      <td>1</td>\n",
       "      <td>1</td>\n",
       "      <td>1</td>\n",
       "      <td>0</td>\n",
       "    </tr>\n",
       "  </tbody>\n",
       "</table>\n",
       "</div>"
      ],
      "text/plain": [
       "   customer_id       age  annual_income  credit_score  no_of_children  \\\n",
       "0            1 -0.172859      -0.177936      0.014931        0.607457   \n",
       "1            2 -1.169337      -1.063659     -0.653970       -1.093422   \n",
       "2            3  0.823620       0.707788      0.516607        1.457896   \n",
       "3            4 -0.742275      -0.620797     -0.152294       -0.242983   \n",
       "4            5  1.535390       1.150650      1.185508        0.607457   \n",
       "\n",
       "   gender_Male  employed_Yes  responded_Yes  marital_status_Single  \n",
       "0            1             1              1                      0  \n",
       "1            0             0              0                      1  \n",
       "2            1             1              1                      0  \n",
       "3            0             1              0                      1  \n",
       "4            1             1              1                      0  "
      ]
     },
     "execution_count": 41,
     "metadata": {},
     "output_type": "execute_result"
    }
   ],
   "source": [
    "from sklearn.preprocessing import StandardScaler\n",
    "\n",
    "scaler=StandardScaler()\n",
    "\n",
    "df_scaled=df.copy()\n",
    "df_scaled[['age','annual_income','credit_score','no_of_children']]=scaler.fit_transform(df_scaled[['age','annual_income','credit_score','no_of_children']])\n",
    "df_scaled.head()"
   ]
  },
  {
   "cell_type": "code",
   "execution_count": 42,
   "id": "84be0b1a-45e5-478b-bf1d-b74fa10d2e5f",
   "metadata": {},
   "outputs": [],
   "source": [
    "from sklearn.model_selection import train_test_split\n",
    "from sklearn.linear_model import LogisticRegression\n",
    "from sklearn.metrics import accuracy_score,confusion_matrix,classification_report\n",
    "\n",
    "x=df_scaled[['age','annual_income','credit_score','no_of_children','gender_Male','employed_Yes','marital_status_Single']]\n",
    "y=df_scaled['responded_Yes']\n",
    "X_train,X_test,y_train,y_test=train_test_split(x,y,test_size=0.2,random_state=42)"
   ]
  },
  {
   "cell_type": "code",
   "execution_count": 43,
   "id": "78264289-b22a-4bc6-b74d-2134ecec688a",
   "metadata": {},
   "outputs": [
    {
     "name": "stdout",
     "output_type": "stream",
     "text": [
      "accuracy: 1.0\n",
      "confusion matrix: [[5 0]\n",
      " [0 7]]\n",
      "classification_report               precision    recall  f1-score   support\n",
      "\n",
      "           0       1.00      1.00      1.00         5\n",
      "           1       1.00      1.00      1.00         7\n",
      "\n",
      "    accuracy                           1.00        12\n",
      "   macro avg       1.00      1.00      1.00        12\n",
      "weighted avg       1.00      1.00      1.00        12\n",
      "\n"
     ]
    }
   ],
   "source": [
    "lr=LogisticRegression()\n",
    "lr.fit(X_train,y_train)\n",
    "\n",
    "y_pred1=lr.predict(X_test)\n",
    "\n",
    "accuracy=accuracy_score(y_test,y_pred1)\n",
    "cm=confusion_matrix(y_test,y_pred1)\n",
    "cr=classification_report(y_test,y_pred1)\n",
    "\n",
    "print('accuracy:',accuracy)\n",
    "print('confusion matrix:',cm)\n",
    "print('classification_report',cr)"
   ]
  },
  {
   "cell_type": "code",
   "execution_count": 44,
   "id": "8e418754-fdfd-4dd7-882d-441fd87a7db1",
   "metadata": {},
   "outputs": [
    {
     "name": "stdout",
     "output_type": "stream",
     "text": [
      "accuracy: 1.0\n",
      "confusion matrix: [[5 0]\n",
      " [0 7]]\n",
      "classification_report               precision    recall  f1-score   support\n",
      "\n",
      "           0       1.00      1.00      1.00         5\n",
      "           1       1.00      1.00      1.00         7\n",
      "\n",
      "    accuracy                           1.00        12\n",
      "   macro avg       1.00      1.00      1.00        12\n",
      "weighted avg       1.00      1.00      1.00        12\n",
      "\n"
     ]
    }
   ],
   "source": [
    "from sklearn.tree import DecisionTreeClassifier\n",
    "from sklearn.ensemble import RandomForestClassifier,AdaBoostClassifier,GradientBoostingClassifier\n",
    "\n",
    "dt=DecisionTreeClassifier(random_state=42,max_depth=None,min_impurity_decrease=0)\n",
    "dt.fit(X_train,y_train)\n",
    "\n",
    "y_pred2=dt.predict(X_test)\n",
    "\n",
    "accuracy=accuracy_score(y_test,y_pred2)\n",
    "cm=confusion_matrix(y_test,y_pred2)\n",
    "cr=classification_report(y_test,y_pred2)\n",
    "\n",
    "print('accuracy:',accuracy)\n",
    "print('confusion matrix:',cm)\n",
    "print('classification_report',cr)"
   ]
  },
  {
   "cell_type": "code",
   "execution_count": 45,
   "id": "1375edbe-6d0f-4faf-b7d5-2df24ed30bec",
   "metadata": {},
   "outputs": [
    {
     "name": "stdout",
     "output_type": "stream",
     "text": [
      "accuracy: 0.9166666666666666\n",
      "confusion matrix: [[5 0]\n",
      " [1 6]]\n",
      "classification_report               precision    recall  f1-score   support\n",
      "\n",
      "           0       0.83      1.00      0.91         5\n",
      "           1       1.00      0.86      0.92         7\n",
      "\n",
      "    accuracy                           0.92        12\n",
      "   macro avg       0.92      0.93      0.92        12\n",
      "weighted avg       0.93      0.92      0.92        12\n",
      "\n"
     ]
    }
   ],
   "source": [
    "rf=RandomForestClassifier(random_state=42,max_depth=None,min_impurity_decrease=0)\n",
    "rf.fit(X_train,y_train)\n",
    "\n",
    "y_pred3=rf.predict(X_test)\n",
    "\n",
    "accuracy=accuracy_score(y_test,y_pred3)\n",
    "cm=confusion_matrix(y_test,y_pred3)\n",
    "cr=classification_report(y_test,y_pred3)\n",
    "\n",
    "print('accuracy:',accuracy)\n",
    "print('confusion matrix:',cm)\n",
    "print('classification_report',cr)"
   ]
  },
  {
   "cell_type": "code",
   "execution_count": 46,
   "id": "756596b8-a3d5-4c80-ab57-dc39c3038bbd",
   "metadata": {},
   "outputs": [
    {
     "name": "stdout",
     "output_type": "stream",
     "text": [
      "accuracy: 1.0\n",
      "confusion matrix: [[5 0]\n",
      " [0 7]]\n",
      "classification_report               precision    recall  f1-score   support\n",
      "\n",
      "           0       1.00      1.00      1.00         5\n",
      "           1       1.00      1.00      1.00         7\n",
      "\n",
      "    accuracy                           1.00        12\n",
      "   macro avg       1.00      1.00      1.00        12\n",
      "weighted avg       1.00      1.00      1.00        12\n",
      "\n"
     ]
    },
    {
     "name": "stderr",
     "output_type": "stream",
     "text": [
      "C:\\Users\\smits\\AppData\\Local\\Programs\\Python\\Python311\\Lib\\site-packages\\sklearn\\ensemble\\_weight_boosting.py:527: FutureWarning: The SAMME.R algorithm (the default) is deprecated and will be removed in 1.6. Use the SAMME algorithm to circumvent this warning.\n",
      "  warnings.warn(\n"
     ]
    }
   ],
   "source": [
    "ab=AdaBoostClassifier()\n",
    "ab.fit(X_train,y_train)\n",
    "\n",
    "y_pred4=ab.predict(X_test)\n",
    "\n",
    "accuracy=accuracy_score(y_test,y_pred4)\n",
    "cm=confusion_matrix(y_test,y_pred4)\n",
    "cr=classification_report(y_test,y_pred4)\n",
    "\n",
    "print('accuracy:',accuracy)\n",
    "print('confusion matrix:',cm)\n",
    "print('classification_report',cr)"
   ]
  },
  {
   "cell_type": "code",
   "execution_count": 47,
   "id": "fd1dfcac-f08d-4757-a902-1767e8cea70e",
   "metadata": {},
   "outputs": [
    {
     "name": "stdout",
     "output_type": "stream",
     "text": [
      "accuracy: 1.0\n",
      "confusion matrix: [[5 0]\n",
      " [0 7]]\n",
      "classification_report               precision    recall  f1-score   support\n",
      "\n",
      "           0       1.00      1.00      1.00         5\n",
      "           1       1.00      1.00      1.00         7\n",
      "\n",
      "    accuracy                           1.00        12\n",
      "   macro avg       1.00      1.00      1.00        12\n",
      "weighted avg       1.00      1.00      1.00        12\n",
      "\n"
     ]
    }
   ],
   "source": [
    "gb=GradientBoostingClassifier()\n",
    "gb.fit(X_train,y_train)\n",
    "\n",
    "y_pred5=gb.predict(X_test)\n",
    "\n",
    "accuracy=accuracy_score(y_test,y_pred5)\n",
    "cm=confusion_matrix(y_test,y_pred5)\n",
    "cr=classification_report(y_test,y_pred5)\n",
    "\n",
    "print('accuracy:',accuracy)\n",
    "print('confusion matrix:',cm)\n",
    "print('classification_report',cr)"
   ]
  },
  {
   "cell_type": "code",
   "execution_count": 51,
   "id": "de9bd242-2fe1-4d52-a149-b10de563556e",
   "metadata": {},
   "outputs": [
    {
     "name": "stdout",
     "output_type": "stream",
     "text": [
      "Confusion Matrix:\n",
      " [[5 0]\n",
      " [1 6]]\n",
      "Accuracy: 0.9166666666666666\n"
     ]
    }
   ],
   "source": [
    "from sklearn.linear_model import Lasso\n",
    "from sklearn.metrics import confusion_matrix, accuracy_score\n",
    "\n",
    "# Training the Lasso model\n",
    "lasso_model = Lasso(alpha=0.1)  # Adjust alpha as needed\n",
    "lasso_model.fit(X_train, y_train)\n",
    "\n",
    "# Predicting on the test set\n",
    "y_pred_lasso = lasso_model.predict(X_test)\n",
    "\n",
    "# Converting continuous predictions into binary predictions (threshold-based)\n",
    "threshold = 0.5  # You can choose an appropriate threshold\n",
    "y_pred_binary = (y_pred_lasso >= threshold).astype(int)\n",
    "\n",
    "# Calculating confusion matrix and accuracy\n",
    "confusion = confusion_matrix(y_test, y_pred_binary)\n",
    "accuracy = accuracy_score(y_test, y_pred_binary)\n",
    "\n",
    "# Printing results\n",
    "print(\"Confusion Matrix:\\n\", confusion)\n",
    "print(\"Accuracy:\", accuracy)\n"
   ]
  },
  {
   "cell_type": "code",
   "execution_count": null,
   "id": "b3c8c705-1a6a-4519-bfab-7fa5940e12e3",
   "metadata": {},
   "outputs": [],
   "source": []
  }
 ],
 "metadata": {
  "kernelspec": {
   "display_name": "Python 3 (ipykernel)",
   "language": "python",
   "name": "python3"
  },
  "language_info": {
   "codemirror_mode": {
    "name": "ipython",
    "version": 3
   },
   "file_extension": ".py",
   "mimetype": "text/x-python",
   "name": "python",
   "nbconvert_exporter": "python",
   "pygments_lexer": "ipython3",
   "version": "3.12.4"
  }
 },
 "nbformat": 4,
 "nbformat_minor": 5
}
